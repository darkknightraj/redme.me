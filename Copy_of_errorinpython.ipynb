{
  "nbformat": 4,
  "nbformat_minor": 0,
  "metadata": {
    "colab": {
      "provenance": [],
      "authorship_tag": "ABX9TyNTbtmpp4HR8KLqfRMQdOP8",
      "include_colab_link": true
    },
    "kernelspec": {
      "name": "python3",
      "display_name": "Python 3"
    },
    "language_info": {
      "name": "python"
    }
  },
  "cells": [
    {
      "cell_type": "markdown",
      "metadata": {
        "id": "view-in-github",
        "colab_type": "text"
      },
      "source": [
        "<a href=\"https://colab.research.google.com/github/darkknightraj/redme.me/blob/main/Copy_of_errorinpython.ipynb\" target=\"_parent\"><img src=\"https://colab.research.google.com/assets/colab-badge.svg\" alt=\"Open In Colab\"/></a>"
      ]
    },
    {
      "cell_type": "code",
      "execution_count": null,
      "metadata": {
        "id": "MuX9-pVwuZ9O"
      },
      "outputs": [],
      "source": [
        "import numpy as np\n",
        "import pandas as pd"
      ]
    },
    {
      "cell_type": "code",
      "source": [
        "print(\"Enter no of data\")\n",
        "n=int(input())\n",
        "Actual=[]\n",
        "Predicted=[]\n",
        "print(\"Enter actual values\")\n",
        "for i in range(n):\n",
        " Actual.append(int(input()))\n",
        "print(\"Enter predicted values\")\n",
        "for i in range(n):\n",
        " Pred7\n",
        " icted.append(int(input()))"
      ],
      "metadata": {
        "colab": {
          "base_uri": "https://localhost:8080/"
        },
        "id": "cxowChK8u4fp",
        "outputId": "0497de1c-119b-4d89-d3bd-f8cec760b374"
      },
      "execution_count": null,
      "outputs": [
        {
          "name": "stdout",
          "output_type": "stream",
          "text": [
            "Enter no of data\n",
            "4\n",
            "Enter actual values\n",
            "5\n",
            "3\n",
            "6\n",
            "7\n",
            "Enter predicted values\n",
            "5\n",
            "4\n",
            "2\n",
            "8\n"
          ]
        }
      ]
    },
    {
      "cell_type": "code",
      "source": [
        "actual=np.array(Actual)\n",
        "predicted=np.array(Predicted)\n",
        "actual_mean=actual.mean()\n",
        "predicted_mean=predicted.mean()\n"
      ],
      "metadata": {
        "id": "hoD0cUuBwcL0"
      },
      "execution_count": null,
      "outputs": []
    },
    {
      "cell_type": "code",
      "source": [
        "print(\"actual mean : \",actual_mean)\n",
        "print(\"predicted mean : \",predicted_mean)\n"
      ],
      "metadata": {
        "colab": {
          "base_uri": "https://localhost:8080/"
        },
        "id": "BDXd3CwCwi1o",
        "outputId": "66557c24-b122-493e-b69e-896ff40edcc0"
      },
      "execution_count": null,
      "outputs": [
        {
          "output_type": "stream",
          "name": "stdout",
          "text": [
            "actual mean :  5.25\n",
            "predicted mean :  4.75\n"
          ]
        }
      ]
    },
    {
      "cell_type": "code",
      "source": [
        "error=abs(actual-predicted)\n",
        "total_error=error.sum()"
      ],
      "metadata": {
        "id": "SaSiS5iXwwRb"
      },
      "execution_count": null,
      "outputs": []
    },
    {
      "cell_type": "code",
      "source": [
        "print(\"TotalError is : \",total_error)"
      ],
      "metadata": {
        "colab": {
          "base_uri": "https://localhost:8080/"
        },
        "id": "2KwZxJDzw2xi",
        "outputId": "4c924a18-2266-4333-8912-64fdcc0257a6"
      },
      "execution_count": null,
      "outputs": [
        {
          "output_type": "stream",
          "name": "stdout",
          "text": [
            "TotalError is :  6\n"
          ]
        }
      ]
    },
    {
      "cell_type": "code",
      "source": [
        "square_error=error*error\n",
        "total_square_error=square_error.sum()\n",
        "mean_square_error=square_error.mean()"
      ],
      "metadata": {
        "id": "SRtSfNcgxAdo"
      },
      "execution_count": null,
      "outputs": []
    },
    {
      "cell_type": "code",
      "source": [
        "print(\"mean square error is : \",mean_square_error)\n"
      ],
      "metadata": {
        "colab": {
          "base_uri": "https://localhost:8080/"
        },
        "id": "LpPK4yDsxCD7",
        "outputId": "bac278df-ce6f-4b33-8844-0faeb314c30b"
      },
      "execution_count": null,
      "outputs": [
        {
          "output_type": "stream",
          "name": "stdout",
          "text": [
            "mean square error is :  4.5\n"
          ]
        }
      ]
    },
    {
      "cell_type": "code",
      "source": [
        "root_mean_square_error=np.sqrt(mean_square_error)\n",
        "print(\"root mean square error is : \",root_mean_square_error)"
      ],
      "metadata": {
        "colab": {
          "base_uri": "https://localhost:8080/"
        },
        "id": "92vKIZ9ZxF0I",
        "outputId": "b234c165-4852-431e-8517-f06ae45532d9"
      },
      "execution_count": null,
      "outputs": [
        {
          "output_type": "stream",
          "name": "stdout",
          "text": [
            "root mean square error is :  2.1213203435596424\n"
          ]
        }
      ]
    },
    {
      "cell_type": "code",
      "source": [
        "Abar_A=abs(actual_mean-actual)\n",
        "total_Abar_A=Abar_A.sum()\n",
        "Abar_A_square=Abar_A*Abar_A\n",
        "total_Abar_A_square=Abar_A_square.sum()\n",
        "SST=total_Abar_A_square\n",
        "relative_squared_error=total_square_error/total_Abar_A_square"
      ],
      "metadata": {
        "id": "BR1mTLH5xJPy"
      },
      "execution_count": null,
      "outputs": []
    },
    {
      "cell_type": "code",
      "source": [
        "print(\"relative squared error is : \",relative_squared_error)\n"
      ],
      "metadata": {
        "colab": {
          "base_uri": "https://localhost:8080/"
        },
        "id": "2VkCXWzExNlu",
        "outputId": "1e2cb0ef-7131-4f84-e855-5e771a10eaea"
      },
      "execution_count": null,
      "outputs": [
        {
          "output_type": "stream",
          "name": "stdout",
          "text": [
            "relative squared error is :  2.057142857142857\n"
          ]
        }
      ]
    },
    {
      "cell_type": "code",
      "source": [
        "mean_absolute_error=error.mean()\n",
        "print(\"mean absolute error is : \",mean_absolute_error)\n"
      ],
      "metadata": {
        "colab": {
          "base_uri": "https://localhost:8080/"
        },
        "id": "EYdEYs1dxVyP",
        "outputId": "f462b982-23f7-416d-9a4d-dc9354c99de7"
      },
      "execution_count": null,
      "outputs": [
        {
          "output_type": "stream",
          "name": "stdout",
          "text": [
            "mean absolute error is :  1.5\n"
          ]
        }
      ]
    },
    {
      "cell_type": "code",
      "source": [
        "relative_absolute_error=total_error/total_Abar_A\n",
        "print(\"relative absolute error is : \",relative_absolute_error)"
      ],
      "metadata": {
        "colab": {
          "base_uri": "https://localhost:8080/"
        },
        "id": "URJHOJ0uxcDt",
        "outputId": "f18907a8-a3bc-4320-fb25-949a463ed9bb"
      },
      "execution_count": null,
      "outputs": [
        {
          "output_type": "stream",
          "name": "stdout",
          "text": [
            "relative absolute error is :  1.2\n"
          ]
        }
      ]
    },
    {
      "cell_type": "code",
      "source": [
        "Pbar_P=abs(predicted_mean-predicted)\n",
        "total_Pbar_P=Pbar_P.sum()\n",
        "Pbar_P_square=Pbar_P*Pbar_P\n",
        "total_Pbar_P_square=Pbar_P_square.sum()\n",
        "SSR=total_Pbar_P_square"
      ],
      "metadata": {
        "id": "paiwqq7rxf_w"
      },
      "execution_count": null,
      "outputs": []
    },
    {
      "cell_type": "code",
      "source": [
        "coefficient_of_determination=SSR/SST\n",
        "print(\"Coefficient of determination is : \",coefficient_of_determination)"
      ],
      "metadata": {
        "colab": {
          "base_uri": "https://localhost:8080/"
        },
        "id": "4hL6aBeFxqxn",
        "outputId": "0f339fd7-8845-4835-cd96-c71c43a92913"
      },
      "execution_count": null,
      "outputs": [
        {
          "output_type": "stream",
          "name": "stdout",
          "text": [
            "Coefficient of determination is :  2.142857142857143\n"
          ]
        }
      ]
    },
    {
      "cell_type": "code",
      "source": [
        "coefficient_of_determination_2=1-(total_square_error/total_Abar_A_square)\n",
        "print(\"coefficient of determination is : \",coefficient_of_determination_2)"
      ],
      "metadata": {
        "colab": {
          "base_uri": "https://localhost:8080/"
        },
        "id": "IMQdmvJwxu8N",
        "outputId": "c446572d-2256-49b9-a531-46b24163570a"
      },
      "execution_count": null,
      "outputs": [
        {
          "output_type": "stream",
          "name": "stdout",
          "text": [
            "coefficient of determination is :  -1.057142857142857\n"
          ]
        }
      ]
    },
    {
      "cell_type": "code",
      "source": [
        "df=pd.DataFrame((actual,predicted,error,square_error,Abar_A,Abar_A_square))\n",
        "df\n"
      ],
      "metadata": {
        "colab": {
          "base_uri": "https://localhost:8080/",
          "height": 237
        },
        "id": "Gu_-Ys0ax1zq",
        "outputId": "da6dd5bf-0b68-47ac-dadc-75c4a5b98e2c"
      },
      "execution_count": null,
      "outputs": [
        {
          "output_type": "execute_result",
          "data": {
            "text/plain": [
              "        0       1        2       3\n",
              "0  5.0000  3.0000   6.0000  7.0000\n",
              "1  5.0000  4.0000   2.0000  8.0000\n",
              "2  0.0000  1.0000   4.0000  1.0000\n",
              "3  0.0000  1.0000  16.0000  1.0000\n",
              "4  0.2500  2.2500   0.7500  1.7500\n",
              "5  0.0625  5.0625   0.5625  3.0625"
            ],
            "text/html": [
              "\n",
              "  <div id=\"df-040d15eb-d507-4948-8f24-11895c8edfcd\">\n",
              "    <div class=\"colab-df-container\">\n",
              "      <div>\n",
              "<style scoped>\n",
              "    .dataframe tbody tr th:only-of-type {\n",
              "        vertical-align: middle;\n",
              "    }\n",
              "\n",
              "    .dataframe tbody tr th {\n",
              "        vertical-align: top;\n",
              "    }\n",
              "\n",
              "    .dataframe thead th {\n",
              "        text-align: right;\n",
              "    }\n",
              "</style>\n",
              "<table border=\"1\" class=\"dataframe\">\n",
              "  <thead>\n",
              "    <tr style=\"text-align: right;\">\n",
              "      <th></th>\n",
              "      <th>0</th>\n",
              "      <th>1</th>\n",
              "      <th>2</th>\n",
              "      <th>3</th>\n",
              "    </tr>\n",
              "  </thead>\n",
              "  <tbody>\n",
              "    <tr>\n",
              "      <th>0</th>\n",
              "      <td>5.0000</td>\n",
              "      <td>3.0000</td>\n",
              "      <td>6.0000</td>\n",
              "      <td>7.0000</td>\n",
              "    </tr>\n",
              "    <tr>\n",
              "      <th>1</th>\n",
              "      <td>5.0000</td>\n",
              "      <td>4.0000</td>\n",
              "      <td>2.0000</td>\n",
              "      <td>8.0000</td>\n",
              "    </tr>\n",
              "    <tr>\n",
              "      <th>2</th>\n",
              "      <td>0.0000</td>\n",
              "      <td>1.0000</td>\n",
              "      <td>4.0000</td>\n",
              "      <td>1.0000</td>\n",
              "    </tr>\n",
              "    <tr>\n",
              "      <th>3</th>\n",
              "      <td>0.0000</td>\n",
              "      <td>1.0000</td>\n",
              "      <td>16.0000</td>\n",
              "      <td>1.0000</td>\n",
              "    </tr>\n",
              "    <tr>\n",
              "      <th>4</th>\n",
              "      <td>0.2500</td>\n",
              "      <td>2.2500</td>\n",
              "      <td>0.7500</td>\n",
              "      <td>1.7500</td>\n",
              "    </tr>\n",
              "    <tr>\n",
              "      <th>5</th>\n",
              "      <td>0.0625</td>\n",
              "      <td>5.0625</td>\n",
              "      <td>0.5625</td>\n",
              "      <td>3.0625</td>\n",
              "    </tr>\n",
              "  </tbody>\n",
              "</table>\n",
              "</div>\n",
              "      <button class=\"colab-df-convert\" onclick=\"convertToInteractive('df-040d15eb-d507-4948-8f24-11895c8edfcd')\"\n",
              "              title=\"Convert this dataframe to an interactive table.\"\n",
              "              style=\"display:none;\">\n",
              "        \n",
              "  <svg xmlns=\"http://www.w3.org/2000/svg\" height=\"24px\"viewBox=\"0 0 24 24\"\n",
              "       width=\"24px\">\n",
              "    <path d=\"M0 0h24v24H0V0z\" fill=\"none\"/>\n",
              "    <path d=\"M18.56 5.44l.94 2.06.94-2.06 2.06-.94-2.06-.94-.94-2.06-.94 2.06-2.06.94zm-11 1L8.5 8.5l.94-2.06 2.06-.94-2.06-.94L8.5 2.5l-.94 2.06-2.06.94zm10 10l.94 2.06.94-2.06 2.06-.94-2.06-.94-.94-2.06-.94 2.06-2.06.94z\"/><path d=\"M17.41 7.96l-1.37-1.37c-.4-.4-.92-.59-1.43-.59-.52 0-1.04.2-1.43.59L10.3 9.45l-7.72 7.72c-.78.78-.78 2.05 0 2.83L4 21.41c.39.39.9.59 1.41.59.51 0 1.02-.2 1.41-.59l7.78-7.78 2.81-2.81c.8-.78.8-2.07 0-2.86zM5.41 20L4 18.59l7.72-7.72 1.47 1.35L5.41 20z\"/>\n",
              "  </svg>\n",
              "      </button>\n",
              "      \n",
              "  <style>\n",
              "    .colab-df-container {\n",
              "      display:flex;\n",
              "      flex-wrap:wrap;\n",
              "      gap: 12px;\n",
              "    }\n",
              "\n",
              "    .colab-df-convert {\n",
              "      background-color: #E8F0FE;\n",
              "      border: none;\n",
              "      border-radius: 50%;\n",
              "      cursor: pointer;\n",
              "      display: none;\n",
              "      fill: #1967D2;\n",
              "      height: 32px;\n",
              "      padding: 0 0 0 0;\n",
              "      width: 32px;\n",
              "    }\n",
              "\n",
              "    .colab-df-convert:hover {\n",
              "      background-color: #E2EBFA;\n",
              "      box-shadow: 0px 1px 2px rgba(60, 64, 67, 0.3), 0px 1px 3px 1px rgba(60, 64, 67, 0.15);\n",
              "      fill: #174EA6;\n",
              "    }\n",
              "\n",
              "    [theme=dark] .colab-df-convert {\n",
              "      background-color: #3B4455;\n",
              "      fill: #D2E3FC;\n",
              "    }\n",
              "\n",
              "    [theme=dark] .colab-df-convert:hover {\n",
              "      background-color: #434B5C;\n",
              "      box-shadow: 0px 1px 3px 1px rgba(0, 0, 0, 0.15);\n",
              "      filter: drop-shadow(0px 1px 2px rgba(0, 0, 0, 0.3));\n",
              "      fill: #FFFFFF;\n",
              "    }\n",
              "  </style>\n",
              "\n",
              "      <script>\n",
              "        const buttonEl =\n",
              "          document.querySelector('#df-040d15eb-d507-4948-8f24-11895c8edfcd button.colab-df-convert');\n",
              "        buttonEl.style.display =\n",
              "          google.colab.kernel.accessAllowed ? 'block' : 'none';\n",
              "\n",
              "        async function convertToInteractive(key) {\n",
              "          const element = document.querySelector('#df-040d15eb-d507-4948-8f24-11895c8edfcd');\n",
              "          const dataTable =\n",
              "            await google.colab.kernel.invokeFunction('convertToInteractive',\n",
              "                                                     [key], {});\n",
              "          if (!dataTable) return;\n",
              "\n",
              "          const docLinkHtml = 'Like what you see? Visit the ' +\n",
              "            '<a target=\"_blank\" href=https://colab.research.google.com/notebooks/data_table.ipynb>data table notebook</a>'\n",
              "            + ' to learn more about interactive tables.';\n",
              "          element.innerHTML = '';\n",
              "          dataTable['output_type'] = 'display_data';\n",
              "          await google.colab.output.renderOutput(dataTable, element);\n",
              "          const docLink = document.createElement('div');\n",
              "          docLink.innerHTML = docLinkHtml;\n",
              "          element.appendChild(docLink);\n",
              "        }\n",
              "      </script>\n",
              "    </div>\n",
              "  </div>\n",
              "  "
            ]
          },
          "metadata": {},
          "execution_count": 22
        }
      ]
    },
    {
      "cell_type": "code",
      "source": [
        "df=df.rename(columns=lambda x:x+1)\n",
        "df=df.rename(index={0:\"Actual\",1:\"Predicted\",2:\"abs Error\",3:\"Error square\",4:\"abs(Abar-A)\"})\n"
      ],
      "metadata": {
        "id": "r1VgumAHx7hK"
      },
      "execution_count": null,
      "outputs": []
    },
    {
      "cell_type": "code",
      "source": [
        "df"
      ],
      "metadata": {
        "colab": {
          "base_uri": "https://localhost:8080/",
          "height": 237
        },
        "id": "kw-hReScyJL3",
        "outputId": "facd931d-a63f-4b59-cace-c89833df96d4"
      },
      "execution_count": null,
      "outputs": [
        {
          "output_type": "execute_result",
          "data": {
            "text/plain": [
              "                   1       2        3       4\n",
              "Actual        5.0000  3.0000   6.0000  7.0000\n",
              "Predicted     5.0000  4.0000   2.0000  8.0000\n",
              "abs Error     0.0000  1.0000   4.0000  1.0000\n",
              "Error square  0.0000  1.0000  16.0000  1.0000\n",
              "abs(Abar-A)   0.2500  2.2500   0.7500  1.7500\n",
              "5             0.0625  5.0625   0.5625  3.0625"
            ],
            "text/html": [
              "\n",
              "  <div id=\"df-fd9c82e2-b01b-4f2d-85de-bf3bf925a85f\">\n",
              "    <div class=\"colab-df-container\">\n",
              "      <div>\n",
              "<style scoped>\n",
              "    .dataframe tbody tr th:only-of-type {\n",
              "        vertical-align: middle;\n",
              "    }\n",
              "\n",
              "    .dataframe tbody tr th {\n",
              "        vertical-align: top;\n",
              "    }\n",
              "\n",
              "    .dataframe thead th {\n",
              "        text-align: right;\n",
              "    }\n",
              "</style>\n",
              "<table border=\"1\" class=\"dataframe\">\n",
              "  <thead>\n",
              "    <tr style=\"text-align: right;\">\n",
              "      <th></th>\n",
              "      <th>1</th>\n",
              "      <th>2</th>\n",
              "      <th>3</th>\n",
              "      <th>4</th>\n",
              "    </tr>\n",
              "  </thead>\n",
              "  <tbody>\n",
              "    <tr>\n",
              "      <th>Actual</th>\n",
              "      <td>5.0000</td>\n",
              "      <td>3.0000</td>\n",
              "      <td>6.0000</td>\n",
              "      <td>7.0000</td>\n",
              "    </tr>\n",
              "    <tr>\n",
              "      <th>Predicted</th>\n",
              "      <td>5.0000</td>\n",
              "      <td>4.0000</td>\n",
              "      <td>2.0000</td>\n",
              "      <td>8.0000</td>\n",
              "    </tr>\n",
              "    <tr>\n",
              "      <th>abs Error</th>\n",
              "      <td>0.0000</td>\n",
              "      <td>1.0000</td>\n",
              "      <td>4.0000</td>\n",
              "      <td>1.0000</td>\n",
              "    </tr>\n",
              "    <tr>\n",
              "      <th>Error square</th>\n",
              "      <td>0.0000</td>\n",
              "      <td>1.0000</td>\n",
              "      <td>16.0000</td>\n",
              "      <td>1.0000</td>\n",
              "    </tr>\n",
              "    <tr>\n",
              "      <th>abs(Abar-A)</th>\n",
              "      <td>0.2500</td>\n",
              "      <td>2.2500</td>\n",
              "      <td>0.7500</td>\n",
              "      <td>1.7500</td>\n",
              "    </tr>\n",
              "    <tr>\n",
              "      <th>5</th>\n",
              "      <td>0.0625</td>\n",
              "      <td>5.0625</td>\n",
              "      <td>0.5625</td>\n",
              "      <td>3.0625</td>\n",
              "    </tr>\n",
              "  </tbody>\n",
              "</table>\n",
              "</div>\n",
              "      <button class=\"colab-df-convert\" onclick=\"convertToInteractive('df-fd9c82e2-b01b-4f2d-85de-bf3bf925a85f')\"\n",
              "              title=\"Convert this dataframe to an interactive table.\"\n",
              "              style=\"display:none;\">\n",
              "        \n",
              "  <svg xmlns=\"http://www.w3.org/2000/svg\" height=\"24px\"viewBox=\"0 0 24 24\"\n",
              "       width=\"24px\">\n",
              "    <path d=\"M0 0h24v24H0V0z\" fill=\"none\"/>\n",
              "    <path d=\"M18.56 5.44l.94 2.06.94-2.06 2.06-.94-2.06-.94-.94-2.06-.94 2.06-2.06.94zm-11 1L8.5 8.5l.94-2.06 2.06-.94-2.06-.94L8.5 2.5l-.94 2.06-2.06.94zm10 10l.94 2.06.94-2.06 2.06-.94-2.06-.94-.94-2.06-.94 2.06-2.06.94z\"/><path d=\"M17.41 7.96l-1.37-1.37c-.4-.4-.92-.59-1.43-.59-.52 0-1.04.2-1.43.59L10.3 9.45l-7.72 7.72c-.78.78-.78 2.05 0 2.83L4 21.41c.39.39.9.59 1.41.59.51 0 1.02-.2 1.41-.59l7.78-7.78 2.81-2.81c.8-.78.8-2.07 0-2.86zM5.41 20L4 18.59l7.72-7.72 1.47 1.35L5.41 20z\"/>\n",
              "  </svg>\n",
              "      </button>\n",
              "      \n",
              "  <style>\n",
              "    .colab-df-container {\n",
              "      display:flex;\n",
              "      flex-wrap:wrap;\n",
              "      gap: 12px;\n",
              "    }\n",
              "\n",
              "    .colab-df-convert {\n",
              "      background-color: #E8F0FE;\n",
              "      border: none;\n",
              "      border-radius: 50%;\n",
              "      cursor: pointer;\n",
              "      display: none;\n",
              "      fill: #1967D2;\n",
              "      height: 32px;\n",
              "      padding: 0 0 0 0;\n",
              "      width: 32px;\n",
              "    }\n",
              "\n",
              "    .colab-df-convert:hover {\n",
              "      background-color: #E2EBFA;\n",
              "      box-shadow: 0px 1px 2px rgba(60, 64, 67, 0.3), 0px 1px 3px 1px rgba(60, 64, 67, 0.15);\n",
              "      fill: #174EA6;\n",
              "    }\n",
              "\n",
              "    [theme=dark] .colab-df-convert {\n",
              "      background-color: #3B4455;\n",
              "      fill: #D2E3FC;\n",
              "    }\n",
              "\n",
              "    [theme=dark] .colab-df-convert:hover {\n",
              "      background-color: #434B5C;\n",
              "      box-shadow: 0px 1px 3px 1px rgba(0, 0, 0, 0.15);\n",
              "      filter: drop-shadow(0px 1px 2px rgba(0, 0, 0, 0.3));\n",
              "      fill: #FFFFFF;\n",
              "    }\n",
              "  </style>\n",
              "\n",
              "      <script>\n",
              "        const buttonEl =\n",
              "          document.querySelector('#df-fd9c82e2-b01b-4f2d-85de-bf3bf925a85f button.colab-df-convert');\n",
              "        buttonEl.style.display =\n",
              "          google.colab.kernel.accessAllowed ? 'block' : 'none';\n",
              "\n",
              "        async function convertToInteractive(key) {\n",
              "          const element = document.querySelector('#df-fd9c82e2-b01b-4f2d-85de-bf3bf925a85f');\n",
              "          const dataTable =\n",
              "            await google.colab.kernel.invokeFunction('convertToInteractive',\n",
              "                                                     [key], {});\n",
              "          if (!dataTable) return;\n",
              "\n",
              "          const docLinkHtml = 'Like what you see? Visit the ' +\n",
              "            '<a target=\"_blank\" href=https://colab.research.google.com/notebooks/data_table.ipynb>data table notebook</a>'\n",
              "            + ' to learn more about interactive tables.';\n",
              "          element.innerHTML = '';\n",
              "          dataTable['output_type'] = 'display_data';\n",
              "          await google.colab.output.renderOutput(dataTable, element);\n",
              "          const docLink = document.createElement('div');\n",
              "          docLink.innerHTML = docLinkHtml;\n",
              "          element.appendChild(docLink);\n",
              "        }\n",
              "      </script>\n",
              "    </div>\n",
              "  </div>\n",
              "  "
            ]
          },
          "metadata": {},
          "execution_count": 26
        }
      ]
    },
    {
      "cell_type": "code",
      "source": [
        "print(\"TotalError is : \",total_error)\n",
        "print(\"mean square error is : \",mean_square_error)\n",
        "print(\"root mean square error is : \",root_mean_square_error)\n",
        "print(\"relative squared error is : \",relative_squared_error)\n",
        "print(\"mean absolute error is : \",mean_absolute_error)\n",
        "print(\"relative absolute error is : \",relative_absolute_error)\n",
        "print(\"Coefficient of determination is : \",coefficient_of_determination)\n",
        "print(\"coefficient of determination is : \",coefficient_of_determination_2)"
      ],
      "metadata": {
        "id": "jpQRiZAtyQOO",
        "outputId": "d076044b-dd8e-45ab-9d5b-5e3f68dbe0df",
        "colab": {
          "base_uri": "https://localhost:8080/"
        }
      },
      "execution_count": null,
      "outputs": [
        {
          "output_type": "stream",
          "name": "stdout",
          "text": [
            "TotalError is :  6\n",
            "mean square error is :  4.5\n",
            "root mean square error is :  2.1213203435596424\n",
            "relative squared error is :  2.057142857142857\n",
            "mean absolute error is :  1.5\n",
            "relative absolute error is :  1.2\n",
            "Coefficient of determination is :  2.142857142857143\n",
            "coefficient of determination is :  -1.057142857142857\n"
          ]
        }
      ]
    }
  ]
}